{
 "cells": [
  {
   "cell_type": "code",
   "execution_count": 2,
   "metadata": {
    "ExecuteTime": {
     "end_time": "2021-08-27T11:00:54.340405Z",
     "start_time": "2021-08-27T11:00:54.286421Z"
    }
   },
   "outputs": [],
   "source": [
    "\n",
    "import requests\n",
    "import json\n"
   ]
  },
  {
   "cell_type": "code",
   "execution_count": 25,
   "metadata": {
    "ExecuteTime": {
     "end_time": "2021-08-27T11:10:34.283247Z",
     "start_time": "2021-08-27T11:10:34.274419Z"
    }
   },
   "outputs": [],
   "source": [
    "from core.config import API_PORT"
   ]
  },
  {
   "cell_type": "code",
   "execution_count": 19,
   "metadata": {
    "ExecuteTime": {
     "end_time": "2021-08-27T11:08:37.516590Z",
     "start_time": "2021-08-27T11:08:37.425185Z"
    }
   },
   "outputs": [],
   "source": [
    "# Get all NER labels\n",
    "results = requests.get(f\"http://localhost:{API_PORT}/api/v1/labels\")\n"
   ]
  },
  {
   "cell_type": "code",
   "execution_count": null,
   "metadata": {},
   "outputs": [],
   "source": []
  },
  {
   "cell_type": "code",
   "execution_count": 8,
   "metadata": {
    "ExecuteTime": {
     "end_time": "2021-08-24T12:52:14.341252Z",
     "start_time": "2021-08-24T12:52:11.273267Z"
    }
   },
   "outputs": [],
   "source": [
    "# If you want to put all defined label into training queue\n",
    "# Run the following Codes\n",
    "\n",
    "# Get all NER labels\n",
    "results = requests.get(f\"http://localhost:{API_PORT}/api/v1/labels\")\n",
    "\n",
    "\n",
    "# Post a training Job for each NER label\n",
    "for result in results.json():\n",
    "    label_name = result[\"label_name\"]\n",
    "    data = {\n",
    "        \"label_name\": label_name,\n",
    "        \"epochs\": 3,\n",
    "        \"train_data_filter\": {},\n",
    "    }\n",
    "    result = requests.post(ff\"http://localhost:{API_PORT}/api/v1/model/NER/labelText/jobs\", data = json.dumps(data))"
   ]
  },
  {
   "cell_type": "code",
   "execution_count": 120,
   "metadata": {
    "ExecuteTime": {
     "end_time": "2021-08-22T11:55:07.177243Z",
     "start_time": "2021-08-22T11:55:07.174043Z"
    }
   },
   "outputs": [
    {
     "data": {
      "text/plain": [
       "{'message': 'Success, String now is in Training Queue.',\n",
       " 'trace_id': '61223b1a6c290f7d8e43624c'}"
      ]
     },
     "execution_count": 120,
     "metadata": {},
     "output_type": "execute_result"
    }
   ],
   "source": [
    "# result will be something like this\n",
    "result.json()"
   ]
  },
  {
   "cell_type": "code",
   "execution_count": 16,
   "metadata": {
    "ExecuteTime": {
     "end_time": "2021-08-27T11:06:59.373899Z",
     "start_time": "2021-08-27T11:06:59.307724Z"
    }
   },
   "outputs": [
    {
     "name": "stdout",
     "output_type": "stream",
     "text": [
      "Now have 0 Jobs in the Waiting Line\n"
     ]
    }
   ],
   "source": [
    "results = requests.get(f\"http://localhost:{API_PORT}/api/v1/model/NER/labelText/jobs?status=waiting\")\n",
    "print(f\"Now have {len(results.json())} Jobs in the Waiting Line\")"
   ]
  },
  {
   "cell_type": "code",
   "execution_count": 17,
   "metadata": {
    "ExecuteTime": {
     "end_time": "2021-08-27T11:07:08.329067Z",
     "start_time": "2021-08-27T11:07:08.250306Z"
    }
   },
   "outputs": [
    {
     "name": "stdout",
     "output_type": "stream",
     "text": [
      "Now have 0 jobs training\n"
     ]
    }
   ],
   "source": [
    "results = requests.get(f\"http://localhost:{API_PORT}/api/v1/model/NER/labelText/jobs?status=training\")\n",
    "print(f\"Now have {len(results.json())} jobs training\")"
   ]
  },
  {
   "cell_type": "code",
   "execution_count": 28,
   "metadata": {
    "ExecuteTime": {
     "end_time": "2021-08-27T11:10:45.674399Z",
     "start_time": "2021-08-27T11:10:45.657487Z"
    }
   },
   "outputs": [
    {
     "name": "stdout",
     "output_type": "stream",
     "text": [
      "Trainer have done 149 jobs\n"
     ]
    }
   ],
   "source": [
    "results = requests.get(f\"http://localhost:{API_PORT}/api/v1/model/NER/labelText/jobs?status=done\")\n",
    "print(f\"Trainer have done {len(results.json())} jobs\")"
   ]
  },
  {
   "cell_type": "code",
   "execution_count": null,
   "metadata": {},
   "outputs": [],
   "source": []
  },
  {
   "cell_type": "code",
   "execution_count": 10,
   "metadata": {
    "ExecuteTime": {
     "end_time": "2021-08-27T11:03:02.595562Z",
     "start_time": "2021-08-27T11:03:02.489775Z"
    }
   },
   "outputs": [],
   "source": [
    "\n",
    "results = requests.get(f\"http://localhost:{API_PORT}/api/v1/model/NER/labelText/jobs?status=all\")\n",
    "results = results.json()"
   ]
  },
  {
   "cell_type": "code",
   "execution_count": 72,
   "metadata": {
    "ExecuteTime": {
     "end_time": "2021-08-21T10:45:24.122303Z",
     "start_time": "2021-08-21T10:45:18.792682Z"
    }
   },
   "outputs": [],
   "source": [
    "# If you want to clear all training Queue,\n",
    "# EX: misrun the above codes twice\n",
    "# Uncommand and run the following codes:\n",
    "\"\"\"\n",
    "# Get all jobs\n",
    "results = requests.get(f\"http://localhost:{API_PORT}/api/v1/model/NER/labelText/jobs?status=all\")\n",
    "results = results.json()\n",
    "\n",
    "# Delete all jobs\n",
    "for result in results:\n",
    "    out = requests.delete(ff\"http://localhost:{API_PORT}/api/v1/model/NER/labelText/jobs/{result['trace_id']}\")\n",
    "\"\"\""
   ]
  },
  {
   "cell_type": "code",
   "execution_count": null,
   "metadata": {},
   "outputs": [],
   "source": []
  }
 ],
 "metadata": {
  "kernelspec": {
   "display_name": "Python 3",
   "language": "python",
   "name": "python3"
  },
  "language_info": {
   "codemirror_mode": {
    "name": "ipython",
    "version": 3
   },
   "file_extension": ".py",
   "mimetype": "text/x-python",
   "name": "python",
   "nbconvert_exporter": "python",
   "pygments_lexer": "ipython3",
   "version": "3.8.3"
  }
 },
 "nbformat": 4,
 "nbformat_minor": 4
}
