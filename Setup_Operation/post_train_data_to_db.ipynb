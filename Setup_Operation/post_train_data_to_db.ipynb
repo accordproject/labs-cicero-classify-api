{
 "cells": [
  {
   "cell_type": "markdown",
   "metadata": {},
   "source": [
    "## This ipynb help you to transfer the CONLL NER dataset to the backend's DB. So the trainer can train NER model base on the data."
   ]
  },
  {
   "cell_type": "code",
   "execution_count": 6,
   "metadata": {
    "ExecuteTime": {
     "end_time": "2021-08-27T10:54:51.091959Z",
     "start_time": "2021-08-27T10:54:51.085530Z"
    }
   },
   "outputs": [],
   "source": [
    "from core.config import API_PORT"
   ]
  },
  {
   "cell_type": "code",
   "execution_count": 1,
   "metadata": {
    "ExecuteTime": {
     "end_time": "2021-08-27T10:50:52.575963Z",
     "start_time": "2021-08-27T10:50:52.304129Z"
    }
   },
   "outputs": [],
   "source": [
    "import pandas as pd"
   ]
  },
  {
   "cell_type": "code",
   "execution_count": 2,
   "metadata": {
    "ExecuteTime": {
     "end_time": "2021-08-27T10:50:53.081691Z",
     "start_time": "2021-08-27T10:50:52.604428Z"
    }
   },
   "outputs": [],
   "source": [
    "df = pd.read_csv(\"./NER_multilabel_data_v2.csv\")"
   ]
  },
  {
   "cell_type": "code",
   "execution_count": 3,
   "metadata": {
    "ExecuteTime": {
     "end_time": "2021-08-27T10:50:54.491225Z",
     "start_time": "2021-08-27T10:50:54.448958Z"
    }
   },
   "outputs": [
    {
     "data": {
      "text/html": [
       "<div>\n",
       "<style scoped>\n",
       "    .dataframe tbody tr th:only-of-type {\n",
       "        vertical-align: middle;\n",
       "    }\n",
       "\n",
       "    .dataframe tbody tr th {\n",
       "        vertical-align: top;\n",
       "    }\n",
       "\n",
       "    .dataframe thead th {\n",
       "        text-align: right;\n",
       "    }\n",
       "</style>\n",
       "<table border=\"1\" class=\"dataframe\">\n",
       "  <thead>\n",
       "    <tr style=\"text-align: right;\">\n",
       "      <th></th>\n",
       "      <th>Unnamed: 0</th>\n",
       "      <th>Sentence #</th>\n",
       "      <th>Word</th>\n",
       "      <th>POS</th>\n",
       "      <th>Tag</th>\n",
       "      <th>newTag</th>\n",
       "    </tr>\n",
       "  </thead>\n",
       "  <tbody>\n",
       "    <tr>\n",
       "      <th>90</th>\n",
       "      <td>90</td>\n",
       "      <td>NaN</td>\n",
       "      <td>the</td>\n",
       "      <td>DT</td>\n",
       "      <td>O</td>\n",
       "      <td>O</td>\n",
       "    </tr>\n",
       "    <tr>\n",
       "      <th>91</th>\n",
       "      <td>91</td>\n",
       "      <td>NaN</td>\n",
       "      <td>annual</td>\n",
       "      <td>JJ</td>\n",
       "      <td>O</td>\n",
       "      <td>O</td>\n",
       "    </tr>\n",
       "    <tr>\n",
       "      <th>92</th>\n",
       "      <td>92</td>\n",
       "      <td>NaN</td>\n",
       "      <td>conference</td>\n",
       "      <td>NN</td>\n",
       "      <td>O</td>\n",
       "      <td>O</td>\n",
       "    </tr>\n",
       "    <tr>\n",
       "      <th>93</th>\n",
       "      <td>93</td>\n",
       "      <td>NaN</td>\n",
       "      <td>of</td>\n",
       "      <td>IN</td>\n",
       "      <td>O</td>\n",
       "      <td>O</td>\n",
       "    </tr>\n",
       "    <tr>\n",
       "      <th>94</th>\n",
       "      <td>94</td>\n",
       "      <td>NaN</td>\n",
       "      <td>Britain</td>\n",
       "      <td>NNP</td>\n",
       "      <td>B-geo</td>\n",
       "      <td>B-geo|Location|Party</td>\n",
       "    </tr>\n",
       "    <tr>\n",
       "      <th>95</th>\n",
       "      <td>95</td>\n",
       "      <td>NaN</td>\n",
       "      <td>'s</td>\n",
       "      <td>POS</td>\n",
       "      <td>O</td>\n",
       "      <td>O</td>\n",
       "    </tr>\n",
       "    <tr>\n",
       "      <th>96</th>\n",
       "      <td>96</td>\n",
       "      <td>NaN</td>\n",
       "      <td>ruling</td>\n",
       "      <td>VBG</td>\n",
       "      <td>O</td>\n",
       "      <td>O</td>\n",
       "    </tr>\n",
       "    <tr>\n",
       "      <th>97</th>\n",
       "      <td>97</td>\n",
       "      <td>NaN</td>\n",
       "      <td>Labor</td>\n",
       "      <td>NNP</td>\n",
       "      <td>B-org</td>\n",
       "      <td>B-org|Party</td>\n",
       "    </tr>\n",
       "    <tr>\n",
       "      <th>98</th>\n",
       "      <td>98</td>\n",
       "      <td>NaN</td>\n",
       "      <td>Party</td>\n",
       "      <td>NNP</td>\n",
       "      <td>I-org</td>\n",
       "      <td>I-org|Party</td>\n",
       "    </tr>\n",
       "    <tr>\n",
       "      <th>99</th>\n",
       "      <td>99</td>\n",
       "      <td>NaN</td>\n",
       "      <td>in</td>\n",
       "      <td>IN</td>\n",
       "      <td>O</td>\n",
       "      <td>O</td>\n",
       "    </tr>\n",
       "  </tbody>\n",
       "</table>\n",
       "</div>"
      ],
      "text/plain": [
       "    Unnamed: 0 Sentence #        Word  POS    Tag                newTag\n",
       "90          90        NaN         the   DT      O                     O\n",
       "91          91        NaN      annual   JJ      O                     O\n",
       "92          92        NaN  conference   NN      O                     O\n",
       "93          93        NaN          of   IN      O                     O\n",
       "94          94        NaN     Britain  NNP  B-geo  B-geo|Location|Party\n",
       "95          95        NaN          's  POS      O                     O\n",
       "96          96        NaN      ruling  VBG      O                     O\n",
       "97          97        NaN       Labor  NNP  B-org           B-org|Party\n",
       "98          98        NaN       Party  NNP  I-org           I-org|Party\n",
       "99          99        NaN          in   IN      O                     O"
      ]
     },
     "execution_count": 3,
     "metadata": {},
     "output_type": "execute_result"
    }
   ],
   "source": [
    "df[90:100]"
   ]
  },
  {
   "cell_type": "code",
   "execution_count": 4,
   "metadata": {
    "ExecuteTime": {
     "end_time": "2021-08-27T10:51:01.622317Z",
     "start_time": "2021-08-27T10:51:01.568346Z"
    }
   },
   "outputs": [],
   "source": [
    "df.loc[:, \"Sentence #\"] = df[\"Sentence #\"].fillna(method=\"ffill\")"
   ]
  },
  {
   "cell_type": "code",
   "execution_count": 5,
   "metadata": {
    "ExecuteTime": {
     "end_time": "2021-08-27T10:51:02.747173Z",
     "start_time": "2021-08-27T10:51:02.740610Z"
    }
   },
   "outputs": [],
   "source": [
    "import numpy as np"
   ]
  },
  {
   "cell_type": "code",
   "execution_count": 10,
   "metadata": {
    "ExecuteTime": {
     "end_time": "2021-08-17T22:40:24.491602Z",
     "start_time": "2021-08-17T22:40:24.422493Z"
    }
   },
   "outputs": [],
   "source": [
    "sentences = list(set(df[\"Sentence #\"]))"
   ]
  },
  {
   "cell_type": "code",
   "execution_count": 11,
   "metadata": {
    "ExecuteTime": {
     "end_time": "2021-08-17T22:40:24.700329Z",
     "start_time": "2021-08-17T22:40:24.693509Z"
    }
   },
   "outputs": [],
   "source": [
    "import requests"
   ]
  },
  {
   "cell_type": "code",
   "execution_count": 13,
   "metadata": {
    "ExecuteTime": {
     "end_time": "2021-08-17T22:40:25.827813Z",
     "start_time": "2021-08-17T22:40:25.740184Z"
    }
   },
   "outputs": [],
   "source": [
    "words = df[df[\"Sentence #\"] == sentence]"
   ]
  },
  {
   "cell_type": "code",
   "execution_count": 14,
   "metadata": {
    "ExecuteTime": {
     "end_time": "2021-08-17T22:40:27.339548Z",
     "start_time": "2021-08-17T22:40:27.331243Z"
    }
   },
   "outputs": [],
   "source": [
    "def process_data(row):\n",
    "    return {\n",
    "        \"text\": row.Word,\n",
    "        \"labels\": row.newTag.split(\"|\")\n",
    "    }"
   ]
  },
  {
   "cell_type": "code",
   "execution_count": 113,
   "metadata": {
    "ExecuteTime": {
     "end_time": "2021-08-17T23:08:31.611660Z",
     "start_time": "2021-08-17T23:08:31.600848Z"
    }
   },
   "outputs": [],
   "source": [
    "def post_data(sentence):\n",
    "    data = {\n",
    "        \"user\": \"CONLL_0818@admin\",\n",
    "        \"tags\": [\"setup\"]\n",
    "        \"texts\": list(df[df[\"Sentence #\"] == sentence].apply(process_data, axis = 1))\n",
    "    }\n",
    "    headers = {\n",
    "        'accept': 'application/json',\n",
    "        'Content-Type': 'application/json'\n",
    "    }\n",
    "    return requests.post(f\"http://localhost:{API_PORT}/api/v1/data/labeledText\", data=json.dumps(data), headers = headers)"
   ]
  },
  {
   "cell_type": "code",
   "execution_count": 115,
   "metadata": {
    "ExecuteTime": {
     "end_time": "2021-08-17T23:48:20.029347Z",
     "start_time": "2021-08-17T23:08:47.906557Z"
    }
   },
   "outputs": [
    {
     "name": "stderr",
     "output_type": "stream",
     "text": [
      "100%|███████████████████████████████| 47959/47959 [39:32<00:00, 20.22it/s]\n",
      "100%|███████████████████████████| 47959/47959 [00:00<00:00, 529359.85it/s]\n"
     ]
    }
   ],
   "source": [
    "# put datas into DB\n",
    "import json\n",
    "from tqdm import tqdm\n",
    "import threading\n",
    "tasks = []\n",
    "for sentence in tqdm(sentences):\n",
    "    t = threading.Thread(target=post_data, args={sentence})\n",
    "    t.start()\n",
    "    tasks.append(t)\n",
    "for task in tqdm(tasks):\n",
    "    task.join()"
   ]
  },
  {
   "cell_type": "code",
   "execution_count": null,
   "metadata": {},
   "outputs": [],
   "source": []
  },
  {
   "cell_type": "code",
   "execution_count": null,
   "metadata": {},
   "outputs": [],
   "source": []
  },
  {
   "cell_type": "code",
   "execution_count": null,
   "metadata": {},
   "outputs": [],
   "source": []
  },
  {
   "cell_type": "code",
   "execution_count": null,
   "metadata": {},
   "outputs": [],
   "source": []
  }
 ],
 "metadata": {
  "kernelspec": {
   "display_name": "adapter",
   "language": "python",
   "name": "adapter"
  },
  "language_info": {
   "codemirror_mode": {
    "name": "ipython",
    "version": 3
   },
   "file_extension": ".py",
   "mimetype": "text/x-python",
   "name": "python",
   "nbconvert_exporter": "python",
   "pygments_lexer": "ipython3",
   "version": "3.7.10"
  }
 },
 "nbformat": 4,
 "nbformat_minor": 4
}
